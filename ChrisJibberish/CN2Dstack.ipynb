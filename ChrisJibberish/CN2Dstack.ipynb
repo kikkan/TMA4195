{
 "cells": [
  {
   "cell_type": "markdown",
   "metadata": {},
   "source": [
    "# Imports"
   ]
  },
  {
   "cell_type": "markdown",
   "metadata": {},
   "source": [
    "# Setup"
   ]
  },
  {
   "cell_type": "markdown",
   "metadata": {},
   "source": [
    "# Matrices\n",
    "The general equation is\n",
    "$$\n",
    "c_t = \\kappa \\Delta c - f(n,r,b),\n",
    "$$\n",
    "which for CN becomes\n",
    "\\begin{aligned}\n",
    "    \\frac{u_{i,j}^{n+1} + u_{i,j}^{n}}{\\Delta t} &= \\frac{\\kappa}{2\\Delta x \\Delta y} (\n",
    "        &u_{i+1,j}^{n+1} + u_{i-1,j}^{n+1} + u_{i,j+1}^{n+1} + u_{i,j-1}^{n+1} - 4u_{i,j}^{n+1}\\\\\n",
    "        & & +u_{i+1,j}^{n} + u_{i-1,j}^{n} + u_{i,j+1}^{n} + u_{i,j-1}^{n} - 4u_{i,j}^{n}\n",
    "    ).\n",
    "\\end{aligned}\n",
    "Set $n+1$ and $n$ terms on left and right side, respectively. Also, define $\\sigma:=\\Delta t \\kappa /2\\Delta x \\Delta y$. Then it is\n",
    "\\begin{equation}\n",
    "    -\\sigma (u_{i-1,j}^{n+1} + u_{i,j-1}^{n+1}) + (1+4\\sigma) u_{i,j}^{n+1} - \\sigma (u_{i+1,j}^{n+1} + u_{i,j+1}^{n+1})\n",
    "    = \\sigma (u_{i-1,j}^{n} + u_{i,j-1}^{n}) - (1+4\\sigma) u_{i,j}^{n} + \\sigma (u_{i+1,j}^{n} + u_{i,j+1}^{n})\n",
    "\\end{equation}\n",
    "We see that for the upper left corner of the grid $u_{i-1,j}$ and $u_{i,j-1}$ are outside the grid. That is, $u_{-1,0}$ and $u_{0,-1}$. Same goes for all corners. Along the top and bottom rows and leftmost and rightmost column we are missing $u_{-1,j},u_{n+1,j}, u_{i,-1}, u_{i,n+1}$ respectively. For now we simply compensate this by adjusting the coefficient in front of i,jth term such that the row sum is one. That is, for none missing the coefficient is $1+4\\Sigma$ (middle of grid), where one is missing (boundaries, not corners) $1+3\\sigma$, and when two are missing (corners) $1+2\\sigma$. \n",
    "\n",
    "To make the matrix multiplication applicable for the grid we stretch the grid into one vector $Uv = [u_{0,0}, u_{0,1},...,u_{0,m}, u_{1,0}, u_{1,1},...,u_{n-1,m},u_{n,0},..., u_{n,m}]^T$. Also, we need a block matrix composed of four matrices, $A_u, A_d, A_{\\pm1}, A_l$ corresponding to top row of grid, interior, $u_{i\\pm1,j}$ and bottom row of grid, respectively. They look like this\n",
    "$$\n",
    "A_u =\n",
    "\\begin{bmatrix}\n",
    "    1+2\\sigma   & -\\sigma   & 0         & \\dots     &           & 0  \\\\\n",
    "    -\\sigma     & 1+3\\sigma & -\\sigma   & 0         & \\dots     &  \\vdots \\\\\n",
    "    0           &-\\sigma    & 1+3\\sigma & -\\sigma   & 0         &   \\\\\n",
    "    \\vdots      &           & \\ddots    & \\ddots    & \\ddots    &   \\\\\n",
    "                &           &           & -\\sigma   & 1+3\\sigma & -\\sigma    \\\\\n",
    "    0           &           &           &           &  -\\sigma  & 1+2\\sigma   \\\\\n",
    "\\end{bmatrix} \\\\ \\\\ \\\\\n",
    "\n",
    "A_d =\n",
    "\\begin{bmatrix}\n",
    "    1+3\\sigma   & -\\sigma   & 0         & \\dots     &           & 0  \\\\\n",
    "    -\\sigma     & 1+4\\sigma & -\\sigma   & 0         & \\dots     &  \\vdots \\\\\n",
    "    0           &-\\sigma    & 1+4\\sigma & -\\sigma   & 0         &   \\\\\n",
    "    \\vdots      &           & \\ddots    & \\ddots    & \\ddots    &   \\\\\n",
    "                &           &           & -\\sigma   & 1+4\\sigma & -\\sigma    \\\\\n",
    "    0           &           &           &           &  -\\sigma  & 1+3\\sigma   \\\\\n",
    "\\end{bmatrix} \\\\ \\\\ \\\\\n",
    "\n",
    "A_{\\pm1} = diag(-\\sigma),\\\\ A_l = A_u.\n",
    "$$\n",
    "Then, the blockmatrix is\n",
    "$$\n",
    "A = \n",
    "\\begin{bmatrix}\n",
    "A_u         & A_{\\pm1}  & 0         & \\dots     &           &           & 0 \\\\\n",
    "A_{\\pm1}    & A_d       & A_{\\pm1}  & 0         &           &           & \\vdots \\\\\n",
    "0           & A_{\\pm1}  & A_d       & A_{\\pm1}  & 0         &           &   \\\\\n",
    "\\vdots      &           & \\ddots    & \\ddots    & \\ddots    &           &   \\\\\n",
    "            &           &           &           & A_{\\pm1}  & A_d       & A_{\\pm1}   \\\\\n",
    "0           &           &           &           &           & A_{\\pm1}  & A_d        \\\\\n",
    "\\end{bmatrix}\n",
    "$$\n",
    "So the equation to solve is $AUv^{n+1} = BUv^n + f(Uv^n)$ where, conveniently, $B=-A$."
   ]
  },
  {
   "cell_type": "code",
   "execution_count": 114,
   "metadata": {},
   "outputs": [],
   "source": [
    "import numpy as np\n",
    "import matplotlib.pyplot as plt\n",
    "from scipy.sparse import diags, csr_matrix\n",
    "from scipy.sparse.linalg import spsolve, inv"
   ]
  },
  {
   "cell_type": "code",
   "execution_count": 115,
   "metadata": {},
   "outputs": [],
   "source": [
    "# %% 2D\n",
    "# Units\n",
    "height = 15e-9  # Height of cleft (15e-9)\n",
    "radius = 220e-9  # Radius of cleft/membrane (220e-9)\n",
    "D = 8e-7  # Diffusion coefficient (8e-7)\n",
    "k1 = 4e6  # Forward reaction coefficient (4e6)\n",
    "km1 = 5  # Backward reaction coefficient (5)\n",
    "r0 = 152  # receptors on membrane (1000/(1e-6)^2 * 2*pi*(220e-9))\n",
    "n0 = 5000  # Neurotransmitters per vesicle pop\n",
    "\n",
    "#%% Discretization\n",
    "nx = 51  # Discretization in x \n",
    "ny = 51 # Dicretization in y \n",
    "dx = height/nx\n",
    "dy = 2*radius/ny\n",
    "dt = 1e-2 # dx**2 # TODO scale\n",
    "\n",
    "#%% scaling\n",
    "kappa = D*dt # TODO scale?\n",
    "sigma = kappa / (2*dx*dy)\n",
    "\n",
    "#%% sparse matrix\n",
    "offset = [-nx-1, -1, 0, 1, nx+1] # Offset includes A_+-1\n",
    "vals = [-sigma, -sigma, (1+4)*sigma, -sigma, -sigma]\n",
    "A = diags(vals, offset, (nx*ny, nx*ny)) # guess this is right shape\n",
    "Aarr = A.toarray()\n",
    "np.set_printoptions(linewidth=160)\n",
    "# print('(n,m)={}\\n'\n",
    "#       'top left of grid and A_d:\\nA[0:n, 0:(m+n+1)] = \\n{}\\n\\n'\n",
    "#       'in the middle:\\nA[(n+1):(2*n+1), (m+1):(2*m+1)] = \\n{}\\n\\n'\n",
    "#       'bottom right of grid:\\nAarr[(n**2-n):, (m**2-m):] = \\n{}\\n\\n'\n",
    "#       ''.format((n,m),Aarr[0:n, 0:(m+n+1)], Aarr[(n+1):(2*n+1), (m+1):(2*m+1)], Aarr[(n**2-n):, (m**2-m):]))\n"
   ]
  },
  {
   "cell_type": "code",
   "execution_count": 116,
   "metadata": {},
   "outputs": [],
   "source": [
    "# Change values of blocks of A corr to A_u and A_l\n",
    "# A_u\n",
    "offsetU = [-1, 0, 1]\n",
    "valsU = [-sigma, 1+3*sigma, -sigma]\n",
    "Au = diags(valsU, offsetU, (nx, nx))\n",
    "AuMod = csr_matrix(Au)\n",
    "AuMod[0,0], AuMod[nx-1,nx-1] = (1+2*sigma,1+2*sigma) # add vals for corners\n",
    "\n",
    "# Add A_u to A\n",
    "Amod = csr_matrix(A)\n",
    "Amod[:nx,:ny] = AuMod # add A_u block\n",
    "Amod[(nx**2-nx):, (nx**2-nx):] = AuMod # Add A_l block  \n",
    "# print(Amod[:n,:m])\n",
    "# print(Amod[n,[n,n+1]])\n",
    "\n",
    "# Correct for left and right boundary\n",
    "for i in range(nx, nx*ny-ny, nx):\n",
    "    Amod[i,i-1] = 0 # Left of grid\n",
    "    Amod[i,i] = 1+3*sigma # First diag\n",
    "    Amod[i+nx-1,i+nx-1] = 1+3*sigma # Last diag\n",
    "    Amod[i+nx-1,i+nx] = 0 # Right of grid\n",
    "\n",
    "    # print('Fixed points:')\n",
    "    # print((i,i-1), (i,i), (i+n-1,i+n-1), (i+n-1,i+n))\n",
    "\n",
    "# Amod[(n**2-n):, (n**2-n):] = AuMod # Add A_l block  \n",
    "Amod[nx-1,nx] = 0 # Fix one fucker\n",
    "Amod[nx**2-nx,nx**2-nx-1] = 0 # Fix another fucker  \n",
    "Bmod = -Amod\n",
    "# print(Amod.toarray())\n",
    "# print(Bmod.toarray())"
   ]
  },
  {
   "cell_type": "code",
   "execution_count": 117,
   "metadata": {},
   "outputs": [],
   "source": [
    "# make grid and init state\n",
    "ma = height*2*radius #membrane area\n",
    "cFR0 = r0/ma # consentration of free receptors at t0\n",
    "Uv = np.zeros(nx*ny)\n",
    "n0 = Uv # Concentration of neurotransmitters. pop not allocated.\n",
    "r0 = Uv + cFR0 # uniform concentration\n",
    "b0 = Uv # concentration of bounded receptors\n",
    "n0[int(nx*ny/2)] = 5000\n",
    "\n",
    "def f(n, r, b):\n",
    "    return -k1*n*r + km1*b\n",
    "\n",
    "timesteps = int(0.2/dt)\n",
    "n = np.zeros((timesteps, nx*ny))\n",
    "r = np.zeros((timesteps, nx*ny))\n",
    "b = np.zeros((timesteps, nx*ny))\n",
    "n[0,:] = n0\n",
    "r[0,:] = r0\n",
    "b[0,:] = b0\n"
   ]
  },
  {
   "cell_type": "code",
   "execution_count": 118,
   "metadata": {},
   "outputs": [
    {
     "name": "stderr",
     "output_type": "stream",
     "text": [
      "c:\\Users\\kikka\\AppData\\Local\\Programs\\Python\\Python310\\lib\\site-packages\\scipy\\sparse\\linalg\\_dsolve\\linsolve.py:144: SparseEfficiencyWarning: spsolve requires A be CSC or CSR matrix format\n",
      "  warn('spsolve requires A be CSC or CSR matrix format',\n",
      "c:\\Users\\kikka\\AppData\\Local\\Programs\\Python\\Python310\\lib\\site-packages\\scipy\\sparse\\linalg\\_dsolve\\linsolve.py:215: SparseEfficiencyWarning: spsolve is more efficient when sparse b is in the CSC matrix format\n",
      "  warn('spsolve is more efficient when sparse b '\n"
     ]
    }
   ],
   "source": [
    "#%% run\n",
    "AmodInv = inv(A)\n",
    "AB = AmodInv@Bmod\n",
    "for t in range(timesteps-1):\n",
    "    n[t+1, :] = AB@n[t, :]\n",
    "    # n[t+1, :] = spsolve(Amod, Bmod@n[t, :])  # Only diffusion\n",
    "#     n[t+1, :] = spsolve(Amod, Bmod@n[t, :] + dt*f(n[t, :], r[t, :], b[t, :]))\n",
    "#     n[t+1, :] = A@n[t, :] + f(n[t, :], r[t, :], b[t, :])\n",
    "#     r[t+1, :] = dt*f(n[t, :], r[t, :], b[t, :])\n",
    "#     b[t+1, :] = -dt*f(n[t, :], r[t, :], b[t, :])"
   ]
  },
  {
   "cell_type": "code",
   "execution_count": 110,
   "metadata": {},
   "outputs": [],
   "source": [
    "#%% plot\n",
    "def plot_heatmap(n, C):\n",
    "    p = C.reshape((n+1, n+1))\n",
    "    plt.imshow(p, cmap=\"hot\")  # , interpolation=\"nearest\")\n",
    "    plt.show()\n",
    "\n",
    "\n",
    "def plot_3D(nx, ny, C):\n",
    "    x = np.linspace(0, height, nx)\n",
    "    y = np.linspace(0, radius, ny)\n",
    "    x, y = np.meshgrid(x, y)\n",
    "    fig = plt.figure()\n",
    "    ax = fig.gca(projection=\"3d\")\n",
    "#     ax.axes.set_zlim3d(0, 1)\n",
    "    z = C.reshape((nx, ny))\n",
    "    ax.plot_surface(x, y, z, cmap=\"viridis\")\n",
    "    plt.show()\n",
    "\n",
    "\n",
    "# for t in range(0, timesteps, int(timesteps/5)):\n",
    "#     plot_3D(nx, ny, n[t, :])\n"
   ]
  },
  {
   "cell_type": "code",
   "execution_count": 112,
   "metadata": {},
   "outputs": [
    {
     "data": {
      "text/plain": [
       "[<matplotlib.lines.Line2D at 0x1f72a907130>]"
      ]
     },
     "execution_count": 112,
     "metadata": {},
     "output_type": "execute_result"
    },
    {
     "data": {
      "image/png": "[encoded data removed]",
      "text/plain": [
       "<Figure size 432x288 with 1 Axes>"
      ]
     },
     "metadata": {
      "needs_background": "light"
     },
     "output_type": "display_data"
    }
   ],
   "source": [
    "x = np.arange(0,nx*ny,1)\n",
    "plt.plot(x,n[3,:])"
   ]
  }
 ],
 "metadata": {
  "kernelspec": {
   "display_name": "Python 3.10.4 64-bit",
   "language": "python",
   "name": "python3"
  },
  "language_info": {
   "codemirror_mode": {
    "name": "ipython",
    "version": 3
   },
   "file_extension": ".py",
   "mimetype": "text/x-python",
   "name": "python",
   "nbconvert_exporter": "python",
   "pygments_lexer": "ipython3",
   "version": "3.10.4"
  },
  "orig_nbformat": 4,
  "vscode": {
   "interpreter": {
    "hash": "93f2782eda793010424690b7660be5df2a118bbc89d9d6a4868f138b9ffa2550"
   }
  }
 },
 "nbformat": 4,
 "nbformat_minor": 2
}
